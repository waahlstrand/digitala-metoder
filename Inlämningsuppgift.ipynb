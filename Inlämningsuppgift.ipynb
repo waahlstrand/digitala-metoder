{
 "cells": [
  {
   "cell_type": "markdown",
   "id": "35d295f1",
   "metadata": {},
   "source": [
    "# Inlämningsuppgift: Nätverk\n",
    "I denna modul skall ni lämna in en obligatorisk uppgift med fokus på nätverk. Det är tillåtet och uppmuntrat att samarbeta i inlämningen, men ni måste självständigt svara på uppgifterna, exempelvis skapa egna nätverk, samt lämna in egna resultat.\n",
    "\n",
    "Inlämningen består av uppgifter som skall utföras dels i notebooken, dels i skrift. \n",
    "- Besvara frågor i uppgifterna i ett separat dokument. \n",
    "- Genomför instruktionerna för varje cell i notebooken och tryck på \"Run\"\n",
    "\n",
    "Inlämning sker på canvas, där ni skall lämna in två filer:\n",
    "- Svar på frågorna\n",
    "- Notebooken\n",
    "\n",
    "Notebooken kan ni spara genom att klicka på \"File\" och sedan \"Download as > Notebook (.ipynb)\".\n",
    "\n",
    "\n",
    "## Uppgifter\n",
    "Det finns 5 uppgiftsdelar, som ska varierande göras i notebooken eller i skrift.\n",
    "\n",
    "1. Skapa ett eget nätverk\n",
    "2. Gör ert nätverk datorläsbart\n",
    "3. Visualisera ert nätverk\n",
    "4. Karaktärisera ert nätverk\n",
    "5. Övriga frågor\n",
    "\n",
    "### 1. Skapa ett eget nätverk\n",
    "Välj fritt ett problem eller ett system som ni vill modellera som ett nätverk. Samla in eller konstruera data på ett medelstort nätverk med runt 20 noder och motsvarande kanter. Redogör för följande i frågedokumentet:\n",
    "1. Vad representerar dina noder?\n",
    "2. Vad representerar deras kopplingar/kanter?\n",
    "\n",
    "Besvara sedan följande frågor: \n",
    "1. Vad är *typen* på era noder?\n",
    "2. Hur många *instanser* har ni?\n",
    "3. Har era noder några attribut?\n",
    "\n",
    "### 2. Gör ert nätverk datorläsbart\n",
    "Ni skall nu formatera ert nätverk på ett korrekt sätt i två variabler, ``nodes`` och ``edges``.\n",
    "\n",
    "Noderna skriver ni i följande format, med exempel:\n",
    "```python\n",
    "\n",
    "nodes = [\n",
    "    {\n",
    "     'id': 1, \n",
    "     'name': 'Jaguar',\n",
    "     'color': 'green',\n",
    "     'age': 25,\n",
    "    },\n",
    "    {\n",
    "     'id': 2,\n",
    "     'name': 'Leopard',\n",
    "     'color': 'pink',\n",
    "     'age': 12,\n",
    "    },\n",
    "    ...\n",
    "\n",
    "]\n",
    "\n",
    "```\n",
    "\n",
    "Observera följande:\n",
    "- Varje nod omges av måsvingar ``{}``. Noder måste följas av ett komma ``,``.\n",
    "- Varje nod måste ha ett attribut vid namn ``'id'``, som är ett unikt heltal. Observera att ``'id'`` och alla attribut måste omges av apostrofer eller citationstecken.\n",
    "- Noder kan frivilligen ha fler attribut, exempelvis ``'name'``, ``'color'`` och ``'age'``. Attributen separeras med komma ``,``."
   ]
  },
  {
   "cell_type": "code",
   "execution_count": 5,
   "id": "fa6d4915",
   "metadata": {},
   "outputs": [],
   "source": [
    "nodes = [\n",
    "    {\n",
    "     'id': 1, \n",
    "     'name': 'Jaguar',\n",
    "     'color': 'green',\n",
    "     'age': 25,\n",
    "    },\n",
    "    {\n",
    "     'id': 2,\n",
    "     'name': 'Leopard',\n",
    "     'color': 'pink',\n",
    "     'age': 12,\n",
    "    },\n",
    "]"
   ]
  },
  {
   "cell_type": "markdown",
   "id": "acc35523",
   "metadata": {},
   "source": [
    "Ni skall också fylla i variabeln ``edges``. Denna skall innehålla kopplingarna/kanterna mellan era noder. Ni använder ett liknande format:\n",
    "\n",
    "```python\n",
    "\n",
    "edges = [\n",
    "    {\n",
    "     'from': 1,\n",
    "     'to': 2\n",
    "    },\n",
    "    {\n",
    "     'from': 1,\n",
    "     'to': 3\n",
    "    },\n",
    "    {\n",
    "     'from': 2,\n",
    "     'to': 4,\n",
    "    }\n",
    "    ...\n",
    "\n",
    "]\n",
    "\n",
    "```\n",
    "\n",
    "Observera följande:\n",
    "- Varje kant omges av måsvingar ``{}``. Kanter måste följas av ett komma ``,``.\n",
    "- Varje nod måste ha ett attribut vid namn ``'from'``, som refererar till det nod-``id`` kanten börjar i, och ett attribut ``'to'`` som refererar till det nod-``id`` kanten slutar i. Riktningen spelar här ingen roll.\n"
   ]
  },
  {
   "cell_type": "code",
   "execution_count": 6,
   "id": "e983d44c",
   "metadata": {},
   "outputs": [],
   "source": [
    "edges = [\n",
    "    {\n",
    "     'from': 1,\n",
    "     'to': 2\n",
    "    },\n",
    "]"
   ]
  },
  {
   "cell_type": "markdown",
   "id": "d4b0c1dd",
   "metadata": {},
   "source": [
    "### 3. Visualisera ert nätverk\n",
    "Ni skall nu använda de funktioner vi tidigare använt i kursen för att visualisera ert nätverk."
   ]
  },
  {
   "cell_type": "code",
   "execution_count": 4,
   "id": "8aaa50fa",
   "metadata": {},
   "outputs": [],
   "source": [
    "from course.network import Network\n",
    "from course.data import color_from_betweenness_centrality, color_from_closeness_centrality, color_from_degree_centrality\n",
    "import networkx as nx\n",
    "from bokeh.io import show"
   ]
  },
  {
   "cell_type": "code",
   "execution_count": 8,
   "id": "d93328ce",
   "metadata": {},
   "outputs": [
    {
     "data": {
      "text/html": [
       "\n",
       "\n",
       "\n",
       "\n",
       "\n",
       "\n",
       "  <div class=\"bk-root\" id=\"07dc1308-c6cd-4c4c-8ed4-771e9dd1999a\" data-root-id=\"1191\"></div>\n"
      ]
     },
     "metadata": {},
     "output_type": "display_data"
    },
    {
     "data": {
      "application/javascript": [
       "(function(root) {\n",
       "  function embed_document(root) {\n",
       "    \n",
       "  var docs_json = {\"fe14b88d-f1ff-4e7c-83e4-c2623d96d0a1\":{\"defs\":[],\"roots\":{\"references\":[{\"attributes\":{\"height\":400,\"renderers\":[{\"id\":\"1179\"}],\"title\":{\"id\":\"1194\"},\"toolbar\":{\"id\":\"1200\"},\"width\":400,\"x_range\":{\"id\":\"1189\"},\"x_scale\":{\"id\":\"1255\"},\"y_range\":{\"id\":\"1190\"},\"y_scale\":{\"id\":\"1257\"}},\"id\":\"1191\",\"type\":\"Plot\"},{\"attributes\":{},\"id\":\"1255\",\"type\":\"LinearScale\"},{\"attributes\":{\"line_color\":{\"value\":\"#fdae61\"},\"line_width\":{\"value\":2}},\"id\":\"1225\",\"type\":\"MultiLine\"},{\"attributes\":{\"callback\":null,\"tooltips\":[[\"age\",\"@age\"],[\"color\",\"@color\"],[\"id\",\"@id\"],[\"name\",\"@name\"]]},\"id\":\"1196\",\"type\":\"HoverTool\"},{\"attributes\":{\"data_source\":{\"id\":\"1181\"},\"glyph\":{\"id\":\"1205\"},\"hover_glyph\":{\"id\":\"1215\"},\"muted_glyph\":null,\"selection_glyph\":{\"id\":\"1210\"},\"view\":{\"id\":\"1183\"}},\"id\":\"1182\",\"type\":\"GlyphRenderer\"},{\"attributes\":{\"data_source\":{\"id\":\"1185\"},\"glyph\":{\"id\":\"1220\"},\"hover_glyph\":{\"id\":\"1230\"},\"muted_glyph\":null,\"selection_glyph\":{\"id\":\"1225\"},\"view\":{\"id\":\"1187\"}},\"id\":\"1186\",\"type\":\"GlyphRenderer\"},{\"attributes\":{},\"id\":\"1237\",\"type\":\"NodesOnly\"},{\"attributes\":{\"data\":{\"end\":[2],\"start\":[1]},\"selected\":{\"id\":\"1270\"},\"selection_policy\":{\"id\":\"1269\"}},\"id\":\"1185\",\"type\":\"ColumnDataSource\"},{\"attributes\":{\"line_alpha\":{\"value\":0.5},\"line_color\":{\"value\":\"#CCCCCC\"},\"line_width\":{\"value\":2}},\"id\":\"1220\",\"type\":\"MultiLine\"},{\"attributes\":{\"graph_layout\":{\"1\":[0.4377215802669525,0.8001255989074707],\"2\":[0.1840788722038269,0.31890568137168884]}},\"id\":\"1188\",\"type\":\"StaticLayoutProvider\"},{\"attributes\":{},\"id\":\"1257\",\"type\":\"LinearScale\"},{\"attributes\":{\"end\":1.1,\"start\":-0.1},\"id\":\"1190\",\"type\":\"Range1d\"},{\"attributes\":{\"callback\":null},\"id\":\"1197\",\"type\":\"TapTool\"},{\"attributes\":{},\"id\":\"1268\",\"type\":\"Selection\"},{\"attributes\":{\"text\":\"Ange en titel till er figur h\\u00e4r\"},\"id\":\"1194\",\"type\":\"Title\"},{\"attributes\":{},\"id\":\"1235\",\"type\":\"NodesAndLinkedEdges\"},{\"attributes\":{\"fill_color\":{\"value\":\"#abdda4\"},\"size\":{\"value\":15}},\"id\":\"1215\",\"type\":\"Circle\"},{\"attributes\":{\"source\":{\"id\":\"1185\"}},\"id\":\"1187\",\"type\":\"CDSView\"},{\"attributes\":{},\"id\":\"1269\",\"type\":\"UnionRenderers\"},{\"attributes\":{},\"id\":\"1195\",\"type\":\"PanTool\"},{\"attributes\":{\"fill_alpha\":{\"value\":0.5},\"fill_color\":{\"value\":\"#2b83ba\"},\"size\":{\"value\":15}},\"id\":\"1205\",\"type\":\"Circle\"},{\"attributes\":{},\"id\":\"1198\",\"type\":\"ZoomInTool\"},{\"attributes\":{\"source\":{\"id\":\"1181\"}},\"id\":\"1183\",\"type\":\"CDSView\"},{\"attributes\":{},\"id\":\"1270\",\"type\":\"Selection\"},{\"attributes\":{},\"id\":\"1199\",\"type\":\"ZoomOutTool\"},{\"attributes\":{\"data\":{\"age\":[25,12],\"color\":[\"green\",\"pink\"],\"id\":[1,2],\"index\":[1,2],\"name\":[\"Jaguar\",\"Leopard\"]},\"selected\":{\"id\":\"1268\"},\"selection_policy\":{\"id\":\"1267\"}},\"id\":\"1181\",\"type\":\"ColumnDataSource\"},{\"attributes\":{},\"id\":\"1267\",\"type\":\"UnionRenderers\"},{\"attributes\":{\"end\":1.1,\"start\":-0.1},\"id\":\"1189\",\"type\":\"Range1d\"},{\"attributes\":{\"edge_renderer\":{\"id\":\"1186\"},\"inspection_policy\":{\"id\":\"1237\"},\"layout_provider\":{\"id\":\"1188\"},\"node_renderer\":{\"id\":\"1182\"},\"selection_policy\":{\"id\":\"1235\"}},\"id\":\"1179\",\"type\":\"GraphRenderer\"},{\"attributes\":{\"fill_color\":{\"value\":\"#fdae61\"},\"size\":{\"value\":15}},\"id\":\"1210\",\"type\":\"Circle\"},{\"attributes\":{\"line_color\":{\"value\":\"#abdda4\"},\"line_width\":{\"value\":2}},\"id\":\"1230\",\"type\":\"MultiLine\"},{\"attributes\":{\"active_multi\":null,\"tools\":[{\"id\":\"1195\"},{\"id\":\"1196\"},{\"id\":\"1197\"},{\"id\":\"1198\"},{\"id\":\"1199\"}]},\"id\":\"1200\",\"type\":\"Toolbar\"}],\"root_ids\":[\"1191\"]},\"title\":\"Bokeh Application\",\"version\":\"2.3.1\"}};\n",
       "  var render_items = [{\"docid\":\"fe14b88d-f1ff-4e7c-83e4-c2623d96d0a1\",\"root_ids\":[\"1191\"],\"roots\":{\"1191\":\"07dc1308-c6cd-4c4c-8ed4-771e9dd1999a\"}}];\n",
       "  root.Bokeh.embed.embed_items_notebook(docs_json, render_items);\n",
       "\n",
       "  }\n",
       "  if (root.Bokeh !== undefined) {\n",
       "    embed_document(root);\n",
       "  } else {\n",
       "    var attempts = 0;\n",
       "    var timer = setInterval(function(root) {\n",
       "      if (root.Bokeh !== undefined) {\n",
       "        clearInterval(timer);\n",
       "        embed_document(root);\n",
       "      } else {\n",
       "        attempts++;\n",
       "        if (attempts > 100) {\n",
       "          clearInterval(timer);\n",
       "          console.log(\"Bokeh: ERROR: Unable to run BokehJS code because BokehJS library is missing\");\n",
       "        }\n",
       "      }\n",
       "    }, 10, root)\n",
       "  }\n",
       "})(window);"
      ],
      "application/vnd.bokehjs_exec.v0+json": ""
     },
     "metadata": {
      "application/vnd.bokehjs_exec.v0+json": {
       "id": "1191"
      }
     },
     "output_type": "display_data"
    }
   ],
   "source": [
    "# Skapa ert nätverk\n",
    "G = Network(nodes, edges)\n",
    "\n",
    "\n",
    "# Skapa en figur\n",
    "title  = \"Ange en titel till er figur här\"\n",
    "g = G.plot(title=title)\n",
    "\n",
    "# Visa figuren\n",
    "show(g)"
   ]
  },
  {
   "cell_type": "markdown",
   "id": "e12c6943",
   "metadata": {},
   "source": [
    "Skapa nu ett nätverk där ni väljer en *layout* som passar ert nätverk. Ni kan välja mellan följande värden:\n",
    "\n",
    "```python\n",
    "\n",
    "layout = nx.circle_layout\n",
    "layout = nx.kamada_kawai\n",
    "layout = nx.spring_layout\n",
    "\n",
    "```"
   ]
  },
  {
   "cell_type": "code",
   "execution_count": null,
   "id": "45b217fc",
   "metadata": {},
   "outputs": [],
   "source": [
    "# Skapa en figur\n",
    "title  = \"Ange en titel till er figur här\"\n",
    "\n",
    "# Ange layout (byt ut \"...\")\n",
    "layout = ...\n",
    "\n",
    "g_w_layout = G.plot(layout, title=title)\n",
    "\n",
    "# Visa figuren\n",
    "show(g_w_layout)"
   ]
  },
  {
   "cell_type": "markdown",
   "id": "fee38c16",
   "metadata": {},
   "source": [
    "Ni ska nu färglägga ert nätverk med lämplig centralitet. Ni dessa är funktioner. Ni kan välja mellan följande värden:\n",
    "\n",
    "```python\n",
    "colors = degree_colors\n",
    "colors = closeness_colors\n",
    "colors = betweenness_colors\n",
    "```"
   ]
  },
  {
   "cell_type": "code",
   "execution_count": null,
   "id": "52d31a81",
   "metadata": {},
   "outputs": [],
   "source": [
    "# Skapa en figur\n",
    "title  = \"Ange en titel till er figur här\"\n",
    "degree_colors = color_from_degree_centrality(G)\n",
    "closeness_colors = color_from_closeness_centrality(G)\n",
    "betweenness_colors = color_from_betweenness_centrality(G)\n",
    "\n",
    "# Ange färgsättningen (byt ut \"...\")\n",
    "colors = ...\n",
    "\n",
    "g_w_layout = G.plot(layout, fill_colors=colors, title=title)\n",
    "\n",
    "# Visa figuren\n",
    "show(g_w_layout)"
   ]
  },
  {
   "cell_type": "markdown",
   "id": "da16e2f5",
   "metadata": {},
   "source": [
    "### 4. Karaktärisera ert nätverk\n",
    "I frågedokumentet, beskriv era insikter av nätverkets struktur som ni fått genom layouten och färgsättningen. Är någon särskild nod central, vilken har flest kanter, agerar någon nod brygga mellan mindre nätverk, o.s.v."
   ]
  },
  {
   "cell_type": "markdown",
   "id": "80a23611",
   "metadata": {},
   "source": [
    "### 5. Övriga frågor"
   ]
  },
  {
   "cell_type": "markdown",
   "id": "6980f7b8",
   "metadata": {},
   "source": [
    "1. Vad krävs för att skapa ett nätverk?\n",
    "2. Vad är layouten till ett nätverk?\n",
    "3. Resonera varför antalet kanter (eller degree, degree centrality) är ett dåligt mått på hur central en nod är?\n",
    "4. Finns det något centralitetsmått som är informativt i ett nätverk där alla är sammankopplade till alla?"
   ]
  },
  {
   "cell_type": "code",
   "execution_count": null,
   "id": "5b998216",
   "metadata": {},
   "outputs": [],
   "source": []
  }
 ],
 "metadata": {
  "kernelspec": {
   "display_name": "digitala-metoder",
   "language": "python",
   "name": "digitala-metoder"
  },
  "language_info": {
   "codemirror_mode": {
    "name": "ipython",
    "version": 3
   },
   "file_extension": ".py",
   "mimetype": "text/x-python",
   "name": "python",
   "nbconvert_exporter": "python",
   "pygments_lexer": "ipython3",
   "version": "3.8.8"
  }
 },
 "nbformat": 4,
 "nbformat_minor": 5
}
